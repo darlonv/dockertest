{
 "cells": [
  {
   "cell_type": "markdown",
   "id": "d206c170",
   "metadata": {
    "slideshow": {
     "slide_type": "slide"
    }
   },
   "source": [
    "# Docker\n",
    "\n",
    "Comandos principais:\n",
    "\n",
    "```bash\n",
    "docker run\n",
    "docker ps\n",
    "docker images\n",
    "```"
   ]
  },
  {
   "cell_type": "markdown",
   "id": "a9b1ffba",
   "metadata": {
    "slideshow": {
     "slide_type": "subslide"
    }
   },
   "source": [
    "Exemplo\n",
    "\n",
    "```bash\n",
    "docker run -it python /bin/bash\n",
    "```"
   ]
  },
  {
   "cell_type": "markdown",
   "id": "f5f0e6e3",
   "metadata": {
    "slideshow": {
     "slide_type": "fragment"
    }
   },
   "source": [
    "Sintaxe:\n",
    "\n",
    "\n",
    "```\n",
    "docker <comando docker> <parametros> <imagem docker> <comando a ser executado>\n",
    "```"
   ]
  },
  {
   "cell_type": "markdown",
   "id": "cdd37cad",
   "metadata": {
    "slideshow": {
     "slide_type": "subslide"
    }
   },
   "source": [
    "- Um container docker é sempre gerado a partir de uma imagem.\n",
    "- Há diversas versões de imagens\n",
    "- Exemplo: \n",
    "    - [Docker hub: Python](https://hub.docker.com/_/python)\n",
    "- As imagens podem ter diversas versões\n",
    "    - [The Startup. Alpine, Slim, Stretch, Buster, Jessie, Bullseye — What are the Differences in Docker Images?](https://medium.com/swlh/alpine-slim-stretch-buster-jessie-bullseye-bookworm-what-are-the-differences-in-docker-62171ed4531d)"
   ]
  },
  {
   "cell_type": "markdown",
   "id": "25113307",
   "metadata": {
    "slideshow": {
     "slide_type": "subslide"
    }
   },
   "source": [
    "```bash\n",
    "docker pull python:3.11.2-alpine\n",
    "docker pull python:3.11.2-slim\n",
    "docker pull python:3.11.2-bullseye\n",
    "```\n",
    "\n",
    "```bash\n",
    "docker images\n",
    "```"
   ]
  },
  {
   "cell_type": "markdown",
   "id": "25ed4601",
   "metadata": {
    "slideshow": {
     "slide_type": "fragment"
    }
   },
   "source": [
    "Qual a diferença?"
   ]
  },
  {
   "cell_type": "markdown",
   "id": "b1f295c4",
   "metadata": {
    "slideshow": {
     "slide_type": "subslide"
    }
   },
   "source": [
    "Qual o resultado destes comandos?\n",
    "\n",
    "```bash\n",
    "docker run -it python:3.11.2-bullseye /bin/bash -c 'echo \"Hello world\"'\n",
    "docker run -it python:3.11.2-slim /bin/bash -c 'echo \"Hello world\"'\n",
    "docker run -it python:3.11.2-alpine /bin/bash -c 'echo \"Hello world\"'\n",
    "```"
   ]
  },
  {
   "cell_type": "markdown",
   "id": "3fb6c805",
   "metadata": {
    "slideshow": {
     "slide_type": "subslide"
    }
   },
   "source": [
    "```bash\n",
    "#Cria um container com bash\n",
    "docker run -it python:3.11.2-slim /bin/bash\n",
    "\n",
    "> #Streamlit\n",
    "> pip install streamlit\n",
    "> git clone https://github.com/darlonv/dockertest.git\n",
    "```\n"
   ]
  },
  {
   "cell_type": "markdown",
   "id": "87eb4a43",
   "metadata": {
    "slideshow": {
     "slide_type": "fragment"
    }
   },
   "source": [
    "Problemas?"
   ]
  },
  {
   "cell_type": "markdown",
   "id": "c63ea7d2",
   "metadata": {
    "slideshow": {
     "slide_type": "subslide"
    }
   },
   "source": [
    "```bash\n",
    "#Cria um container com bash\n",
    "docker run -it python:3.11.2-bullseye /bin/bash\n",
    "\n",
    "> #Streamlit\n",
    "> pip install streamlit\n",
    "> git clone https://github.com/darlonv/dockertest.git\n",
    "> streamlit run dockertest/app_st.py\n",
    "```"
   ]
  },
  {
   "cell_type": "markdown",
   "id": "89ec118c",
   "metadata": {
    "slideshow": {
     "slide_type": "fragment"
    }
   },
   "source": [
    "Agora sim!"
   ]
  },
  {
   "cell_type": "markdown",
   "id": "1ea58235",
   "metadata": {
    "slideshow": {
     "slide_type": "fragment"
    }
   },
   "source": [
    "Porém..."
   ]
  },
  {
   "cell_type": "markdown",
   "id": "09e34f06",
   "metadata": {
    "slideshow": {
     "slide_type": "fragment"
    }
   },
   "source": [
    "O container está isolado!  \n",
    "\n",
    "- Precisamos informar que a porta 8501 pode ser acessada externamente.\n",
    "- `-p 8501:8501`\n"
   ]
  },
  {
   "cell_type": "markdown",
   "id": "7d6fe1c4",
   "metadata": {
    "slideshow": {
     "slide_type": "subslide"
    }
   },
   "source": [
    "```bash\n",
    "#Cria um container com bash\n",
    "docker run -it  python:3.11.2-bullseye /bin/bash\n",
    "\n",
    "> #Streamlit\n",
    "> pip install streamlit\n",
    "> git clone https://github.com/darlonv/dockertest.git\n",
    "> streamlit run --server.address 0.0.0.0 dockertest/app_st.py\n",
    "```"
   ]
  },
  {
   "cell_type": "markdown",
   "id": "a0d31b56",
   "metadata": {
    "slideshow": {
     "slide_type": "fragment"
    }
   },
   "source": [
    "```bash\n",
    "docker run -it -p 8501:8501 python:3.11.2-bullseye /bin/bash\n",
    "```"
   ]
  },
  {
   "cell_type": "markdown",
   "id": "e0efeff3",
   "metadata": {
    "slideshow": {
     "slide_type": "subslide"
    }
   },
   "source": [
    "Em uma única linha:\n",
    "```bash\n",
    "docker run -it -p 8501:8501 python:3.11.2-bullseye /bin/bash -c 'pip install streamlit &&  git clone htps://github.com/darlonv/dockertest.git && streamlit run --server.address 0.0.0.0 dockertest/app_st.py'\n",
    "```"
   ]
  },
  {
   "cell_type": "markdown",
   "id": "32f4fea0",
   "metadata": {
    "slideshow": {
     "slide_type": "subslide"
    }
   },
   "source": [
    "Enquanto o container é executado, em um outro terminal:\n",
    "\n",
    "```bash\n",
    "docker ps\n",
    "```\n",
    "\n",
    "Identifique o container\n",
    "\n",
    "```bash\n",
    "docker pause <nome ou id>\n",
    "```\n",
    "    \n",
    "```bash\n",
    "docker unpause <nome ou id>\n",
    "```\n",
    "\n",
    "```bash\n",
    "docker ps -a\n",
    "```\n",
    "    \n",
    "- pausar\n",
    "    `docker stop`\n",
    "- finalizar\n",
    "   `docker stop`\n",
    "- remover/ finalizar e remover\n",
    "    `docker rm`"
   ]
  },
  {
   "cell_type": "markdown",
   "id": "8876a171",
   "metadata": {
    "slideshow": {
     "slide_type": "subslide"
    }
   },
   "source": [
    "```bash\n",
    "docker ps -a\n",
    "```\n",
    "\n",
    "```bash\n",
    "docker rm <nome ou id>\n",
    "```\n",
    "\n",
    "```bash\n",
    "docker container prune\n",
    "```\n",
    "    \n"
   ]
  },
  {
   "cell_type": "markdown",
   "id": "8b56e0bc",
   "metadata": {
    "slideshow": {
     "slide_type": "subslide"
    }
   },
   "source": [
    "outros parametros `docker run`:\n",
    "\n",
    "```\n",
    "--rm #remove o container apos finalizar\n",
    "-v <caminho>:<caminho container> #Monta um diretorio\n",
    "--name <nome> #Nomeia o container\n",
    "-ti #Terminal interativo\n",
    "```\n",
    "\n",
    "```bash\n",
    "docker run --rm --name streamlit -t -p 8501:8501 python:3.11.2-bullseye /bin/bash -c 'pip install streamlit &&  git clone htps://github.com/darlonv/dockertest.git && streamlit run --server.address 0.0.0.0 dockertest/app_st.py\n",
    "```\n",
    "Observe que agora nao precisamos mais do `i`, já que não há interatividade."
   ]
  },
  {
   "cell_type": "markdown",
   "id": "0e85916a",
   "metadata": {
    "slideshow": {
     "slide_type": "slide"
    }
   },
   "source": [
    "## Dockerfile"
   ]
  },
  {
   "cell_type": "markdown",
   "id": "fe6bb027",
   "metadata": {
    "slideshow": {
     "slide_type": "fragment"
    }
   },
   "source": [
    "- Arquivo `Dockerfile`\n",
    "- Contém comandos para gerar uma imagem"
   ]
  },
  {
   "cell_type": "markdown",
   "id": "16306aaa",
   "metadata": {
    "slideshow": {
     "slide_type": "subslide"
    }
   },
   "source": [
    "```bash\n",
    "FROM python:3.11.2-bullseye                             #Imagem base\n",
    "RUN pip install streamlit                               #Comando\n",
    "RUN git clone https://github.com/darlonv/dockertest.git #Comando\n",
    "WORKDIR /dockertest                                     #Diretório padrão\n",
    "CMD [\"streamlit\", \"run\", \"--server.address\", \"0.0.0.0\", \"app_st.py\"] #Comando a ser executado na criação do container\n",
    "```"
   ]
  },
  {
   "cell_type": "markdown",
   "id": "aaa91c06",
   "metadata": {
    "slideshow": {
     "slide_type": "subslide"
    }
   },
   "source": [
    "```bash\n",
    "docker build -t teste .\n",
    "```"
   ]
  },
  {
   "cell_type": "markdown",
   "id": "3e12eb33",
   "metadata": {
    "slideshow": {
     "slide_type": "fragment"
    }
   },
   "source": [
    "```bash\n",
    "docker run -p 8501:8501 teste\n",
    "```"
   ]
  },
  {
   "cell_type": "markdown",
   "id": "8a47930f",
   "metadata": {
    "slideshow": {
     "slide_type": "fragment"
    }
   },
   "source": [
    "```bash\n",
    "docker images\n",
    "```"
   ]
  },
  {
   "cell_type": "markdown",
   "id": "5727bdf2",
   "metadata": {
    "slideshow": {
     "slide_type": "subslide"
    }
   },
   "source": [
    "```bash\n",
    "docker build -t darlon/dockertest:1.0 .\n",
    "```"
   ]
  },
  {
   "cell_type": "markdown",
   "id": "4499a464",
   "metadata": {
    "slideshow": {
     "slide_type": "fragment"
    }
   },
   "source": [
    "```bash\n",
    "docker run -it -p 8501:8501 darlon/dockertest\n",
    "```\n",
    "erro!\n"
   ]
  },
  {
   "cell_type": "markdown",
   "id": "bf8053c1",
   "metadata": {
    "slideshow": {
     "slide_type": "fragment"
    }
   },
   "source": [
    "```bash\n",
    "docker run -it -p 8501:8501 darlon/dockertest:1.0\n",
    "```"
   ]
  },
  {
   "cell_type": "markdown",
   "id": "b632db32",
   "metadata": {
    "slideshow": {
     "slide_type": "subslide"
    }
   },
   "source": [
    "```bash\n",
    "docker tag darlon/dockertest:1.0 darlon/dockertest:latest\n",
    "```"
   ]
  },
  {
   "cell_type": "markdown",
   "id": "f2a5f465",
   "metadata": {
    "slideshow": {
     "slide_type": "fragment"
    }
   },
   "source": [
    "```bash\n",
    "docker images\n",
    "```\n",
    "\n",
    "Observe os ids das imagens."
   ]
  },
  {
   "cell_type": "markdown",
   "id": "458a2ec2",
   "metadata": {
    "slideshow": {
     "slide_type": "fragment"
    }
   },
   "source": [
    "Executamos \n",
    "```bash\n",
    "docker run -it -p 8501:8501 darlon/dockertest\n",
    "```"
   ]
  },
  {
   "cell_type": "markdown",
   "id": "45df3ba6",
   "metadata": {
    "slideshow": {
     "slide_type": "subslide"
    }
   },
   "source": [
    "Subindo a imagem para o dockerhub\n",
    "\n",
    "```bash\n",
    "docker push darlon/dockertest:1.0\n",
    "```"
   ]
  },
  {
   "cell_type": "markdown",
   "id": "0b8e0ef6",
   "metadata": {
    "slideshow": {
     "slide_type": "fragment"
    }
   },
   "source": [
    "```bash\n",
    "docker push darlon/dockertest:latest\n",
    "```"
   ]
  },
  {
   "cell_type": "markdown",
   "id": "7fd68353",
   "metadata": {
    "slideshow": {
     "slide_type": "fragment"
    }
   },
   "source": [
    "Em outra máquina, execute:\n",
    "\n",
    "```bash\n",
    "docker run -p 8501:8501  darlon/dockertest\n",
    "```"
   ]
  },
  {
   "cell_type": "markdown",
   "id": "a7680ecf",
   "metadata": {
    "slideshow": {
     "slide_type": "subslide"
    }
   },
   "source": [
    "Remova todas as imagens docker na máquina\n",
    "\n",
    "```bash\n",
    "docker images\n",
    "docker container prune -f\n",
    "docker rmi <ids>\n",
    "docker system prune -f\n",
    "```\n",
    "    \n",
    "Execute:\n",
    "```bash\n",
    "docker run -p 8501:8501  darlon/dockertest\n",
    "```\n",
    "    \n",
    "Verifique as imagens\n",
    "```bash\n",
    "docker images\n",
    "```"
   ]
  },
  {
   "cell_type": "markdown",
   "id": "51b290e8",
   "metadata": {
    "slideshow": {
     "slide_type": "slide"
    }
   },
   "source": [
    "## Atualizando o repositorio"
   ]
  },
  {
   "cell_type": "markdown",
   "id": "d45f42ca",
   "metadata": {
    "slideshow": {
     "slide_type": "subslide"
    }
   },
   "source": [
    "Atualize o projeto no github para a versão 2.0\n",
    "\n",
    "```python\n",
    "import streamlit as st\n",
    "\n",
    "st.title(\"Dockertest v 2.0\")\n",
    "\n",
    "val = st.text_input('Valor')\n",
    "val = int(val)\n",
    "quad = val**2\n",
    "st.write(f'Quadrado: {quad}')\n",
    "```\n",
    "\n",
    "https://docs.streamlit.io/library/api-reference/widgets"
   ]
  },
  {
   "cell_type": "markdown",
   "id": "9fc0d799",
   "metadata": {
    "slideshow": {
     "slide_type": "subslide"
    }
   },
   "source": [
    "```bash\n",
    "docker build -t darlon/dockertest:2.0 .\n",
    "docker tag darlon/dockertest:2.0 darlon/dockertest:latest\n",
    "docker run -p 8501:8501  darlon/dockertest\n",
    "```"
   ]
  },
  {
   "cell_type": "markdown",
   "id": "8f60ae23",
   "metadata": {
    "slideshow": {
     "slide_type": "fragment"
    }
   },
   "source": [
    "Qual o problema?\n",
    "- há um erro no código"
   ]
  },
  {
   "cell_type": "markdown",
   "id": "946034a7",
   "metadata": {
    "slideshow": {
     "slide_type": "subslide"
    }
   },
   "source": [
    "```python\n",
    "import streamlit as st\n",
    "\n",
    "st.title(\"Dockertest v 2.0\")\n",
    "\n",
    "val = st.text_input('Valor')\n",
    "if val:\n",
    "    val = int(val)\n",
    "    quad = val**2\n",
    "    st.write(f'Quadrado: {quad}')\n",
    "```"
   ]
  },
  {
   "cell_type": "markdown",
   "id": "770c4439",
   "metadata": {
    "slideshow": {
     "slide_type": "subslide"
    }
   },
   "source": [
    "```bash\n",
    "docker build -t darlon/dockertest:2.0 .\n",
    "docker tag darlon/dockertest:2.0 darlon/dockertest:latest\n",
    "docker push darlon/dockertest:latest\n",
    "```"
   ]
  },
  {
   "cell_type": "markdown",
   "id": "d4c0aa18",
   "metadata": {
    "slideshow": {
     "slide_type": "subslide"
    }
   },
   "source": [
    "```bash\n",
    "docker run -p 8501:8501  darlon/dockertest\n",
    "```"
   ]
  },
  {
   "cell_type": "markdown",
   "id": "6a07146a",
   "metadata": {
    "slideshow": {
     "slide_type": "fragment"
    }
   },
   "source": [
    "Qual o problema?\n",
    "- O repositório não foi atualizado\n",
    "    - utilizou a cache"
   ]
  },
  {
   "cell_type": "markdown",
   "id": "fa650d26",
   "metadata": {
    "slideshow": {
     "slide_type": "subslide"
    }
   },
   "source": [
    "```bash\n",
    "docker build --no-cache -t darlon/dockertest:2.0 .\n",
    "docker tag darlon/dockertest:2.0 darlon/dockertest:latest\n",
    "docker push darlon/dockertest:latest\n",
    "docker push darlon/dockertest:2.0\n",
    "docker push darlon/dockertest:latest\n",
    "docker system prune -f\n",
    "```"
   ]
  },
  {
   "cell_type": "markdown",
   "id": "5b3a004c",
   "metadata": {
    "slideshow": {
     "slide_type": "subslide"
    }
   },
   "source": [
    "```bash\n",
    "docker run -p 8501:8501  darlon/dockertest\n",
    "```"
   ]
  },
  {
   "cell_type": "markdown",
   "id": "54ecc1ac",
   "metadata": {
    "slideshow": {
     "slide_type": "slide"
    }
   },
   "source": [
    "  "
   ]
  }
 ],
 "metadata": {
  "celltoolbar": "Slideshow",
  "kernelspec": {
   "display_name": "Python 3 (ipykernel)",
   "language": "python",
   "name": "python3"
  },
  "language_info": {
   "codemirror_mode": {
    "name": "ipython",
    "version": 3
   },
   "file_extension": ".py",
   "mimetype": "text/x-python",
   "name": "python",
   "nbconvert_exporter": "python",
   "pygments_lexer": "ipython3",
   "version": "3.9.15"
  }
 },
 "nbformat": 4,
 "nbformat_minor": 5
}
